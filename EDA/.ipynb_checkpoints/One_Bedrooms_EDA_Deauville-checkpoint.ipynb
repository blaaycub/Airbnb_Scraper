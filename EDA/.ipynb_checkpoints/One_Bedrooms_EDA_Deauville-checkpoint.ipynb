{
 "cells": [
  {
   "cell_type": "code",
   "execution_count": 2,
   "id": "e5fdc6ca",
   "metadata": {},
   "outputs": [],
   "source": [
    "# importing packages\n",
    "import pandas as pd\n",
    "import numpy as np\n",
    "import matplotlib.pyplot as plt\n",
    "import seaborn as sns\n",
    "\n",
    "# setting global visualization styles\n",
    "sns.set_style(\"white\")\n",
    "sns.set_palette('Blues')\n",
    "sns.set(rc={'figure.figsize':(12,7)})"
   ]
  },
  {
   "cell_type": "code",
   "execution_count": 3,
   "id": "6b272540",
   "metadata": {},
   "outputs": [],
   "source": [
    "# reading all scraped json files (each a respective price range containing >=300 listings) into their own respective dfs\n",
    "d60 = pd.read_json(r'C:\\Users\\bdmul\\Documents\\Airbnb_scraper\\Scraped Data\\deauville_60.json')\n",
    "d60_75 = pd.read_json(r'C:\\Users\\bdmul\\Documents\\Airbnb_scraper\\Scraped Data\\deauville_60_75.json')\n",
    "d75_93 = pd.read_json(r'C:\\Users\\bdmul\\Documents\\Airbnb_scraper\\Scraped Data\\deauville_75_93.json')\n",
    "d93_115 = pd.read_json(r'C:\\Users\\bdmul\\Documents\\Airbnb_scraper\\Scraped Data\\deauville_93_115.json')\n",
    "d115_140 = pd.read_json(r'C:\\Users\\bdmul\\Documents\\Airbnb_scraper\\Scraped Data\\deauville_115_140.json')\n",
    "d140_180 = pd.read_json(r'C:\\Users\\bdmul\\Documents\\Airbnb_scraper\\Scraped Data\\deauville_140_180.json')\n",
    "d180_290 = pd.read_json(r'C:\\Users\\bdmul\\Documents\\Airbnb_scraper\\Scraped Data\\deauville_180_290.json')\n",
    "d290 = pd.read_json(r'C:\\Users\\bdmul\\Documents\\Airbnb_scraper\\Scraped Data\\deauville_290.json')"
   ]
  },
  {
   "cell_type": "code",
   "execution_count": 4,
   "id": "8a61a17f",
   "metadata": {},
   "outputs": [
    {
     "data": {
      "text/plain": [
       "(2209, 9)"
      ]
     },
     "execution_count": 4,
     "metadata": {},
     "output_type": "execute_result"
    }
   ],
   "source": [
    "# combining all dataframes into one\n",
    "dfs = [d60, d60_75, d75_93, d93_115, d115_140, d140_180, d180_290, d290]\n",
    "listings = pd.concat([d60, d60_75, d75_93, d93_115, d115_140, d140_180, d180_290, d290]).drop_duplicates().reset_index(drop=True)\n",
    "listings.shape"
   ]
  },
  {
   "cell_type": "code",
   "execution_count": 5,
   "id": "364919e1",
   "metadata": {},
   "outputs": [],
   "source": [
    "# removing € from the 'price' field and changing type to integer to facilitate manipulation\n",
    "listings['price'] = listings['price'].replace('[\\€\\,\\.]', '', regex=True).astype(int)"
   ]
  },
  {
   "cell_type": "code",
   "execution_count": 8,
   "id": "d1563fbb",
   "metadata": {},
   "outputs": [
    {
     "data": {
      "text/html": [
       "<div>\n",
       "<style scoped>\n",
       "    .dataframe tbody tr th:only-of-type {\n",
       "        vertical-align: middle;\n",
       "    }\n",
       "\n",
       "    .dataframe tbody tr th {\n",
       "        vertical-align: top;\n",
       "    }\n",
       "\n",
       "    .dataframe thead th {\n",
       "        text-align: right;\n",
       "    }\n",
       "</style>\n",
       "<table border=\"1\" class=\"dataframe\">\n",
       "  <thead>\n",
       "    <tr style=\"text-align: right;\">\n",
       "      <th></th>\n",
       "      <th>name</th>\n",
       "      <th>header</th>\n",
       "      <th>link</th>\n",
       "      <th>guests</th>\n",
       "      <th>bedrooms</th>\n",
       "      <th>beds</th>\n",
       "      <th>bathrooms</th>\n",
       "      <th>price</th>\n",
       "      <th>rating</th>\n",
       "    </tr>\n",
       "  </thead>\n",
       "  <tbody>\n",
       "    <tr>\n",
       "      <th>0</th>\n",
       "      <td>Studio</td>\n",
       "      <td>Entire rental unit in Deauville</td>\n",
       "      <td>/rooms/7487350?check_in=2021-12-23&amp;check_out=2...</td>\n",
       "      <td>2 guests</td>\n",
       "      <td>1</td>\n",
       "      <td>1 bed</td>\n",
       "      <td>1 bathroom</td>\n",
       "      <td>48</td>\n",
       "      <td>4.54</td>\n",
       "    </tr>\n",
       "    <tr>\n",
       "      <th>1</th>\n",
       "      <td>Les Marinas for 2 persons.</td>\n",
       "      <td>Entire rental unit in Deauville-Trouville</td>\n",
       "      <td>/rooms/17972276?check_in=2021-12-23&amp;check_out=...</td>\n",
       "      <td>2 guests</td>\n",
       "      <td>1</td>\n",
       "      <td>1 bed</td>\n",
       "      <td>1 bathroom</td>\n",
       "      <td>56</td>\n",
       "      <td>4.53</td>\n",
       "    </tr>\n",
       "    <tr>\n",
       "      <th>2</th>\n",
       "      <td>Mini duplex aux Marinas de Deauville - vue mer</td>\n",
       "      <td>Entire apartment in Deauville</td>\n",
       "      <td>/rooms/19540384?check_in=2021-12-23&amp;check_out=...</td>\n",
       "      <td>2 guests</td>\n",
       "      <td>1</td>\n",
       "      <td>1 bed</td>\n",
       "      <td>1 bathroom</td>\n",
       "      <td>57</td>\n",
       "      <td>4.53</td>\n",
       "    </tr>\n",
       "    <tr>\n",
       "      <th>3</th>\n",
       "      <td>Studio Deauville Rousseau</td>\n",
       "      <td>Entire rental unit in Deauville</td>\n",
       "      <td>/rooms/44378027?check_in=2021-12-23&amp;check_out=...</td>\n",
       "      <td>2 guests</td>\n",
       "      <td>0</td>\n",
       "      <td>1 bed</td>\n",
       "      <td>1 bathroom</td>\n",
       "      <td>56</td>\n",
       "      <td>5.00</td>\n",
       "    </tr>\n",
       "    <tr>\n",
       "      <th>4</th>\n",
       "      <td>Charmant appartement vue mer</td>\n",
       "      <td>Entire apartment in Blonville-sur-Mer</td>\n",
       "      <td>/rooms/26489890?check_in=2021-12-23&amp;check_out=...</td>\n",
       "      <td>4 guests</td>\n",
       "      <td>1</td>\n",
       "      <td>1 bed</td>\n",
       "      <td>1 bathroom</td>\n",
       "      <td>58</td>\n",
       "      <td>4.89</td>\n",
       "    </tr>\n",
       "    <tr>\n",
       "      <th>...</th>\n",
       "      <td>...</td>\n",
       "      <td>...</td>\n",
       "      <td>...</td>\n",
       "      <td>...</td>\n",
       "      <td>...</td>\n",
       "      <td>...</td>\n",
       "      <td>...</td>\n",
       "      <td>...</td>\n",
       "      <td>...</td>\n",
       "    </tr>\n",
       "    <tr>\n",
       "      <th>2204</th>\n",
       "      <td>Le Green de Deauville, Résidence du Golf***</td>\n",
       "      <td>Entire apartment in Deauville</td>\n",
       "      <td>/rooms/50398707?check_in=2021-12-23&amp;check_out=...</td>\n",
       "      <td>5 guests</td>\n",
       "      <td>1</td>\n",
       "      <td>3 beds</td>\n",
       "      <td>1 bathroom</td>\n",
       "      <td>310</td>\n",
       "      <td>NaN</td>\n",
       "    </tr>\n",
       "    <tr>\n",
       "      <th>2205</th>\n",
       "      <td>House with 3 bedrooms in Saint-Arnoult, with e...</td>\n",
       "      <td>Entire residential home in Saint-Arnoult</td>\n",
       "      <td>/rooms/45772365?check_in=2021-12-23&amp;check_out=...</td>\n",
       "      <td>6 guests</td>\n",
       "      <td>3</td>\n",
       "      <td>3 beds</td>\n",
       "      <td>2 bathrooms</td>\n",
       "      <td>373</td>\n",
       "      <td>NaN</td>\n",
       "    </tr>\n",
       "    <tr>\n",
       "      <th>2206</th>\n",
       "      <td>Together, 12 lits</td>\n",
       "      <td>Hotel room in Deauville</td>\n",
       "      <td>/rooms/43101999?check_in=2021-12-23&amp;check_out=...</td>\n",
       "      <td>12 guests</td>\n",
       "      <td>1</td>\n",
       "      <td>6 beds</td>\n",
       "      <td>1 shared bathroom</td>\n",
       "      <td>645</td>\n",
       "      <td>NaN</td>\n",
       "    </tr>\n",
       "    <tr>\n",
       "      <th>2207</th>\n",
       "      <td>A 30 METRES DE LA PLAGE !</td>\n",
       "      <td>Entire townhouse in Trouville-sur-Mer</td>\n",
       "      <td>/rooms/37309240?check_in=2021-12-23&amp;check_out=...</td>\n",
       "      <td>8 guests</td>\n",
       "      <td>4</td>\n",
       "      <td>4 beds</td>\n",
       "      <td>2 bathrooms</td>\n",
       "      <td>347</td>\n",
       "      <td>4.67</td>\n",
       "    </tr>\n",
       "    <tr>\n",
       "      <th>2208</th>\n",
       "      <td>3 P au pieds de la mer</td>\n",
       "      <td>Entire apartment in Trouville-sur-Mer</td>\n",
       "      <td>/rooms/31323300?check_in=2021-12-23&amp;check_out=...</td>\n",
       "      <td>7 guests</td>\n",
       "      <td>3</td>\n",
       "      <td>4 beds</td>\n",
       "      <td>1 bathroom</td>\n",
       "      <td>2117</td>\n",
       "      <td>NaN</td>\n",
       "    </tr>\n",
       "  </tbody>\n",
       "</table>\n",
       "<p>2209 rows × 9 columns</p>\n",
       "</div>"
      ],
      "text/plain": [
       "                                                   name  \\\n",
       "0                                                Studio   \n",
       "1                            Les Marinas for 2 persons.   \n",
       "2        Mini duplex aux Marinas de Deauville - vue mer   \n",
       "3                             Studio Deauville Rousseau   \n",
       "4                          Charmant appartement vue mer   \n",
       "...                                                 ...   \n",
       "2204        Le Green de Deauville, Résidence du Golf***   \n",
       "2205  House with 3 bedrooms in Saint-Arnoult, with e...   \n",
       "2206                                  Together, 12 lits   \n",
       "2207                          A 30 METRES DE LA PLAGE !   \n",
       "2208                             3 P au pieds de la mer   \n",
       "\n",
       "                                         header  \\\n",
       "0               Entire rental unit in Deauville   \n",
       "1     Entire rental unit in Deauville-Trouville   \n",
       "2                 Entire apartment in Deauville   \n",
       "3               Entire rental unit in Deauville   \n",
       "4         Entire apartment in Blonville-sur-Mer   \n",
       "...                                         ...   \n",
       "2204              Entire apartment in Deauville   \n",
       "2205   Entire residential home in Saint-Arnoult   \n",
       "2206                    Hotel room in Deauville   \n",
       "2207      Entire townhouse in Trouville-sur-Mer   \n",
       "2208      Entire apartment in Trouville-sur-Mer   \n",
       "\n",
       "                                                   link     guests  bedrooms  \\\n",
       "0     /rooms/7487350?check_in=2021-12-23&check_out=2...   2 guests         1   \n",
       "1     /rooms/17972276?check_in=2021-12-23&check_out=...   2 guests         1   \n",
       "2     /rooms/19540384?check_in=2021-12-23&check_out=...   2 guests         1   \n",
       "3     /rooms/44378027?check_in=2021-12-23&check_out=...   2 guests         0   \n",
       "4     /rooms/26489890?check_in=2021-12-23&check_out=...   4 guests         1   \n",
       "...                                                 ...        ...       ...   \n",
       "2204  /rooms/50398707?check_in=2021-12-23&check_out=...   5 guests         1   \n",
       "2205  /rooms/45772365?check_in=2021-12-23&check_out=...   6 guests         3   \n",
       "2206  /rooms/43101999?check_in=2021-12-23&check_out=...  12 guests         1   \n",
       "2207  /rooms/37309240?check_in=2021-12-23&check_out=...   8 guests         4   \n",
       "2208  /rooms/31323300?check_in=2021-12-23&check_out=...   7 guests         3   \n",
       "\n",
       "        beds          bathrooms  price  rating  \n",
       "0      1 bed         1 bathroom     48    4.54  \n",
       "1      1 bed         1 bathroom     56    4.53  \n",
       "2      1 bed         1 bathroom     57    4.53  \n",
       "3      1 bed         1 bathroom     56    5.00  \n",
       "4      1 bed         1 bathroom     58    4.89  \n",
       "...      ...                ...    ...     ...  \n",
       "2204  3 beds         1 bathroom    310     NaN  \n",
       "2205  3 beds        2 bathrooms    373     NaN  \n",
       "2206  6 beds  1 shared bathroom    645     NaN  \n",
       "2207  4 beds        2 bathrooms    347    4.67  \n",
       "2208  4 beds         1 bathroom   2117     NaN  \n",
       "\n",
       "[2209 rows x 9 columns]"
      ]
     },
     "execution_count": 8,
     "metadata": {},
     "output_type": "execute_result"
    }
   ],
   "source": [
    "listings"
   ]
  },
  {
   "cell_type": "code",
   "execution_count": 9,
   "id": "d3484ff6",
   "metadata": {},
   "outputs": [
    {
     "data": {
      "text/plain": [
       "1    942\n",
       "2    458\n",
       "0    395\n",
       "3    228\n",
       "4    113\n",
       "5     40\n",
       "6     19\n",
       "7     10\n",
       "8      4\n",
       "Name: bedrooms, dtype: int64"
      ]
     },
     "execution_count": 9,
     "metadata": {},
     "output_type": "execute_result"
    }
   ],
   "source": [
    "# replacing 'Studio' with '0' for easier manipulation\n",
    "listings['bedrooms'] = listings['bedrooms'].replace('Studio', '0')\n",
    "listings['bedrooms'] = listings['bedrooms'].replace(' bedrooms*', '', regex=True).astype(int)\n",
    "listings['bedrooms'].value_counts()"
   ]
  },
  {
   "cell_type": "code",
   "execution_count": 10,
   "id": "a18656a0",
   "metadata": {},
   "outputs": [
    {
     "data": {
      "image/png": "[encoded data removed]",
      "text/plain": [
       "<Figure size 864x504 with 1 Axes>"
      ]
     },
     "metadata": {},
     "output_type": "display_data"
    }
   ],
   "source": [
    "# box plot to get an intial view of one bedroom price range\n",
    "sns.boxplot(data=listings[listings['bedrooms'] == 1], x='price')\n",
    "plt.show()"
   ]
  },
  {
   "cell_type": "code",
   "execution_count": 11,
   "id": "292016d8",
   "metadata": {},
   "outputs": [],
   "source": [
    "# dropping one bedroom price outliers\n",
    "one_br = listings[listings[\"bedrooms\"] == 1]\n",
    "one_br[one_br['price'] > 460]\n",
    "one_br = one_br.drop([2197, 2201, 2206])"
   ]
  },
  {
   "cell_type": "code",
   "execution_count": 12,
   "id": "84a765ad",
   "metadata": {},
   "outputs": [],
   "source": [
    "# finding one bedroom price quartiles\n",
    "one_br_median_price = one_br.price.median()\n",
    "one_br_75 = np.quantile(one_br.price, 0.75)\n",
    "one_br_25 = np.quantile(one_br.price, 0.25)"
   ]
  },
  {
   "cell_type": "code",
   "execution_count": 13,
   "id": "117a3c93",
   "metadata": {
    "scrolled": true
   },
   "outputs": [
    {
     "data": {
      "image/png": "[encoded data removed]",
      "text/plain": [
       "<Figure size 640x480 with 1 Axes>"
      ]
     },
     "metadata": {},
     "output_type": "display_data"
    }
   ],
   "source": [
    "# one bedroom kdeplot\n",
    "sns.reset_defaults()\n",
    "sns.set_style(\"white\")\n",
    "sns.set_style(\"ticks\")\n",
    "\n",
    "# plot\n",
    "sns.kdeplot(data=one_br, x='price', color='cornflowerblue', fill=True, alpha=0.1, bw_method=0.1)\n",
    "\n",
    "# ax lines for percentiles\n",
    "plt.axvline(one_br_median_price, color ='darkorange', linestyle='dashed', linewidth='1')\n",
    "plt.axvline(one_br_75, color ='darkorange', linestyle='dashed', linewidth='1')\n",
    "plt.axvline(one_br_25, color ='darkorange', linestyle='dashed', linewidth='1')\n",
    "\n",
    "# title, axis labels, x ticks\n",
    "plt.title('One-Bedroom Rate Percentiles - Deauville, France', fontsize=15)\n",
    "plt.xlabel('Price (€)', fontsize=12)\n",
    "plt.ylabel('Density', fontsize=12)\n",
    "plt.xticks([0, 25, 50, 75, 100, 125, 150, 175, 200, 225, 250, 275, 300, 325, 350])\n",
    "\n",
    "# text for ax line percentiles\n",
    "plt.annotate('25%', xy = (54, .001), color='k', fontsize=9)\n",
    "plt.annotate('50%', xy = (78, .002), color = 'k', fontsize=9)\n",
    "plt.annotate('75%', xy = (108, .0027), color = 'k', fontsize=9)\n",
    "\n",
    "# formatting, save jpeg, show\n",
    "sns.despine(top=True)\n",
    "plt.savefig(\"Nightly_Rate_Percentiles.jpg\")\n",
    "plt.show()"
   ]
  },
  {
   "cell_type": "code",
   "execution_count": 14,
   "id": "5d1912f5",
   "metadata": {},
   "outputs": [
    {
     "name": "stdout",
     "output_type": "stream",
     "text": [
      "50% of one-bedroom units in Deauville are priced between \n",
      "72.5 and 128.0 euros per night\n"
     ]
    }
   ],
   "source": [
    "# print statement of Interquartile range\n",
    "print(f'50% of one-bedroom units in Deauville are priced between \\n{one_br_25} and {one_br_75} euros per night')"
   ]
  }
 ],
 "metadata": {
  "kernelspec": {
   "display_name": "Python 3",
   "language": "python",
   "name": "python3"
  },
  "language_info": {
   "codemirror_mode": {
    "name": "ipython",
    "version": 3
   },
   "file_extension": ".py",
   "mimetype": "text/x-python",
   "name": "python",
   "nbconvert_exporter": "python",
   "pygments_lexer": "ipython3",
   "version": "3.8.8"
  }
 },
 "nbformat": 4,
 "nbformat_minor": 5
}
