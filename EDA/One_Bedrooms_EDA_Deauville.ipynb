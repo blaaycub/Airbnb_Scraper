{
 "cells": [
  {
   "cell_type": "markdown",
   "id": "5b467045",
   "metadata": {},
   "source": [
    "First thing we do is import relevant packages and then set global visualization styles."
   ]
  },
  {
   "cell_type": "code",
   "execution_count": 1,
   "id": "e5fdc6ca",
   "metadata": {},
   "outputs": [],
   "source": [
    "# importing packages\n",
    "import pandas as pd\n",
    "import numpy as np\n",
    "import matplotlib.pyplot as plt\n",
    "import seaborn as sns\n",
    "\n",
    "# setting global visualization styles\n",
    "sns.set_style(\"white\")\n",
    "sns.set_palette('Blues')\n",
    "sns.set(rc={'figure.figsize':(12,7)})"
   ]
  },
  {
   "cell_type": "markdown",
   "id": "7327d4b9",
   "metadata": {},
   "source": [
    " All of the json files are read into their own dataframe using pandas read_json, put into a list, and then combined into a single dataframe called “listings”. "
   ]
  },
  {
   "cell_type": "code",
   "execution_count": 2,
   "id": "6b272540",
   "metadata": {},
   "outputs": [],
   "source": [
    "# reading all scraped json files (each a respective price range containing >=300 listings) into their own respective dfs\n",
    "d60 = pd.read_json(r'C:\\Users\\bdmul\\Documents\\Airbnb_scraper\\Scraped Data\\deauville_60.json')\n",
    "d60_75 = pd.read_json(r'C:\\Users\\bdmul\\Documents\\Airbnb_scraper\\Scraped Data\\deauville_60_75.json')\n",
    "d75_93 = pd.read_json(r'C:\\Users\\bdmul\\Documents\\Airbnb_scraper\\Scraped Data\\deauville_75_93.json')\n",
    "d93_115 = pd.read_json(r'C:\\Users\\bdmul\\Documents\\Airbnb_scraper\\Scraped Data\\deauville_93_115.json')\n",
    "d115_140 = pd.read_json(r'C:\\Users\\bdmul\\Documents\\Airbnb_scraper\\Scraped Data\\deauville_115_140.json')\n",
    "d140_180 = pd.read_json(r'C:\\Users\\bdmul\\Documents\\Airbnb_scraper\\Scraped Data\\deauville_140_180.json')\n",
    "d180_290 = pd.read_json(r'C:\\Users\\bdmul\\Documents\\Airbnb_scraper\\Scraped Data\\deauville_180_290.json')\n",
    "d290 = pd.read_json(r'C:\\Users\\bdmul\\Documents\\Airbnb_scraper\\Scraped Data\\deauville_290.json')"
   ]
  },
  {
   "cell_type": "code",
   "execution_count": 3,
   "id": "8a61a17f",
   "metadata": {},
   "outputs": [
    {
     "data": {
      "text/plain": [
       "(2209, 9)"
      ]
     },
     "execution_count": 3,
     "metadata": {},
     "output_type": "execute_result"
    }
   ],
   "source": [
    "# combining all dataframes into one\n",
    "dfs = [d60, d60_75, d75_93, d93_115, d115_140, d140_180, d180_290, d290]\n",
    "listings = pd.concat([d60, d60_75, d75_93, d93_115, d115_140, d140_180, d180_290, d290]).drop_duplicates().reset_index(drop=True)\n",
    "listings.shape"
   ]
  },
  {
   "cell_type": "markdown",
   "id": "b67b8c80",
   "metadata": {},
   "source": [
    "### Now the Cleaning Begins ###\n",
    "\n",
    "We start with the price variable by using regular expressions to remove the € and change the type to an integer. "
   ]
  },
  {
   "cell_type": "code",
   "execution_count": 4,
   "id": "364919e1",
   "metadata": {},
   "outputs": [
    {
     "data": {
      "text/html": [
       "<div>\n",
       "<style scoped>\n",
       "    .dataframe tbody tr th:only-of-type {\n",
       "        vertical-align: middle;\n",
       "    }\n",
       "\n",
       "    .dataframe tbody tr th {\n",
       "        vertical-align: top;\n",
       "    }\n",
       "\n",
       "    .dataframe thead th {\n",
       "        text-align: right;\n",
       "    }\n",
       "</style>\n",
       "<table border=\"1\" class=\"dataframe\">\n",
       "  <thead>\n",
       "    <tr style=\"text-align: right;\">\n",
       "      <th></th>\n",
       "      <th>name</th>\n",
       "      <th>header</th>\n",
       "      <th>link</th>\n",
       "      <th>guests</th>\n",
       "      <th>bedrooms</th>\n",
       "      <th>beds</th>\n",
       "      <th>bathrooms</th>\n",
       "      <th>price</th>\n",
       "      <th>rating</th>\n",
       "    </tr>\n",
       "  </thead>\n",
       "  <tbody>\n",
       "    <tr>\n",
       "      <th>0</th>\n",
       "      <td>Studio</td>\n",
       "      <td>Entire rental unit in Deauville</td>\n",
       "      <td>/rooms/7487350?check_in=2021-12-23&amp;check_out=2...</td>\n",
       "      <td>2 guests</td>\n",
       "      <td>1 bedroom</td>\n",
       "      <td>1 bed</td>\n",
       "      <td>1 bathroom</td>\n",
       "      <td>48</td>\n",
       "      <td>4.54</td>\n",
       "    </tr>\n",
       "    <tr>\n",
       "      <th>1</th>\n",
       "      <td>Les Marinas for 2 persons.</td>\n",
       "      <td>Entire rental unit in Deauville-Trouville</td>\n",
       "      <td>/rooms/17972276?check_in=2021-12-23&amp;check_out=...</td>\n",
       "      <td>2 guests</td>\n",
       "      <td>1 bedroom</td>\n",
       "      <td>1 bed</td>\n",
       "      <td>1 bathroom</td>\n",
       "      <td>56</td>\n",
       "      <td>4.53</td>\n",
       "    </tr>\n",
       "    <tr>\n",
       "      <th>2</th>\n",
       "      <td>Mini duplex aux Marinas de Deauville - vue mer</td>\n",
       "      <td>Entire apartment in Deauville</td>\n",
       "      <td>/rooms/19540384?check_in=2021-12-23&amp;check_out=...</td>\n",
       "      <td>2 guests</td>\n",
       "      <td>1 bedroom</td>\n",
       "      <td>1 bed</td>\n",
       "      <td>1 bathroom</td>\n",
       "      <td>57</td>\n",
       "      <td>4.53</td>\n",
       "    </tr>\n",
       "    <tr>\n",
       "      <th>3</th>\n",
       "      <td>Studio Deauville Rousseau</td>\n",
       "      <td>Entire rental unit in Deauville</td>\n",
       "      <td>/rooms/44378027?check_in=2021-12-23&amp;check_out=...</td>\n",
       "      <td>2 guests</td>\n",
       "      <td>Studio</td>\n",
       "      <td>1 bed</td>\n",
       "      <td>1 bathroom</td>\n",
       "      <td>56</td>\n",
       "      <td>5.00</td>\n",
       "    </tr>\n",
       "    <tr>\n",
       "      <th>4</th>\n",
       "      <td>Charmant appartement vue mer</td>\n",
       "      <td>Entire apartment in Blonville-sur-Mer</td>\n",
       "      <td>/rooms/26489890?check_in=2021-12-23&amp;check_out=...</td>\n",
       "      <td>4 guests</td>\n",
       "      <td>1 bedroom</td>\n",
       "      <td>1 bed</td>\n",
       "      <td>1 bathroom</td>\n",
       "      <td>58</td>\n",
       "      <td>4.89</td>\n",
       "    </tr>\n",
       "  </tbody>\n",
       "</table>\n",
       "</div>"
      ],
      "text/plain": [
       "                                             name  \\\n",
       "0                                          Studio   \n",
       "1                      Les Marinas for 2 persons.   \n",
       "2  Mini duplex aux Marinas de Deauville - vue mer   \n",
       "3                       Studio Deauville Rousseau   \n",
       "4                    Charmant appartement vue mer   \n",
       "\n",
       "                                      header  \\\n",
       "0            Entire rental unit in Deauville   \n",
       "1  Entire rental unit in Deauville-Trouville   \n",
       "2              Entire apartment in Deauville   \n",
       "3            Entire rental unit in Deauville   \n",
       "4      Entire apartment in Blonville-sur-Mer   \n",
       "\n",
       "                                                link    guests   bedrooms  \\\n",
       "0  /rooms/7487350?check_in=2021-12-23&check_out=2...  2 guests  1 bedroom   \n",
       "1  /rooms/17972276?check_in=2021-12-23&check_out=...  2 guests  1 bedroom   \n",
       "2  /rooms/19540384?check_in=2021-12-23&check_out=...  2 guests  1 bedroom   \n",
       "3  /rooms/44378027?check_in=2021-12-23&check_out=...  2 guests     Studio   \n",
       "4  /rooms/26489890?check_in=2021-12-23&check_out=...  4 guests  1 bedroom   \n",
       "\n",
       "    beds   bathrooms  price  rating  \n",
       "0  1 bed  1 bathroom     48    4.54  \n",
       "1  1 bed  1 bathroom     56    4.53  \n",
       "2  1 bed  1 bathroom     57    4.53  \n",
       "3  1 bed  1 bathroom     56    5.00  \n",
       "4  1 bed  1 bathroom     58    4.89  "
      ]
     },
     "execution_count": 4,
     "metadata": {},
     "output_type": "execute_result"
    }
   ],
   "source": [
    "# removing € from the 'price' field and changing type to integer to facilitate manipulation\n",
    "listings['price'] = listings['price'].replace('[\\€\\,\\.]', '', regex=True).astype(int)\n",
    "\n",
    "listings.head(5)"
   ]
  },
  {
   "cell_type": "markdown",
   "id": "f240bcc2",
   "metadata": {},
   "source": [
    "Then we move on to the bedrooms variable where we replace “Studio” with 0 and remove “bedrooms*” using regular expressions and changing the type to an integer. "
   ]
  },
  {
   "cell_type": "code",
   "execution_count": 5,
   "id": "d3484ff6",
   "metadata": {},
   "outputs": [
    {
     "data": {
      "text/plain": [
       "1    942\n",
       "2    458\n",
       "0    395\n",
       "3    228\n",
       "4    113\n",
       "5     40\n",
       "6     19\n",
       "7     10\n",
       "8      4\n",
       "Name: bedrooms, dtype: int64"
      ]
     },
     "execution_count": 5,
     "metadata": {},
     "output_type": "execute_result"
    }
   ],
   "source": [
    "# replacing 'Studio' with '0' for easier manipulation\n",
    "listings['bedrooms'] = listings['bedrooms'].replace('Studio', '0')\n",
    "\n",
    "# changing bedrooms type to integer to facilitate manipulation\n",
    "listings['bedrooms'] = listings['bedrooms'].replace(' bedrooms*', '', regex=True).astype(int)\n",
    "\n",
    "# viewing the counts of the indivdual values in 'bedrooms' variable\n",
    "listings['bedrooms'].value_counts()"
   ]
  },
  {
   "cell_type": "markdown",
   "id": "dda96cec",
   "metadata": {},
   "source": [
    "### Establishing our goal ###\n",
    "Let's say we are a property manager and we are interested in knowing how to price our rentals in Deauville, France. "
   ]
  },
  {
   "cell_type": "code",
   "execution_count": 14,
   "id": "a18656a0",
   "metadata": {},
   "outputs": [
    {
     "data": {
      "image/png": "[encoded data removed]",
      "text/plain": [
       "<Figure size 640x480 with 1 Axes>"
      ]
     },
     "metadata": {},
     "output_type": "display_data"
    }
   ],
   "source": [
    "# boxplot to get an intial view of one bedroom price range\n",
    "sns.boxplot(data=listings[listings['bedrooms'] == 1], x='price')\n",
    "sns.set_style(\"white\")\n",
    "sns.set_style(\"ticks\")\n",
    "\n",
    "plt.xlabel('Price')\n",
    "plt.title('One Bedroom Units - Deauville, France')\n",
    "\n",
    "plt.savefig(\"One_Bedroom_Price_Boxplot.jpeg\")\n",
    "plt.show()"
   ]
  },
  {
   "cell_type": "code",
   "execution_count": 7,
   "id": "15c8ce8d",
   "metadata": {},
   "outputs": [
    {
     "data": {
      "text/html": [
       "<div>\n",
       "<style scoped>\n",
       "    .dataframe tbody tr th:only-of-type {\n",
       "        vertical-align: middle;\n",
       "    }\n",
       "\n",
       "    .dataframe tbody tr th {\n",
       "        vertical-align: top;\n",
       "    }\n",
       "\n",
       "    .dataframe thead th {\n",
       "        text-align: right;\n",
       "    }\n",
       "</style>\n",
       "<table border=\"1\" class=\"dataframe\">\n",
       "  <thead>\n",
       "    <tr style=\"text-align: right;\">\n",
       "      <th></th>\n",
       "      <th>name</th>\n",
       "      <th>header</th>\n",
       "      <th>link</th>\n",
       "      <th>guests</th>\n",
       "      <th>bedrooms</th>\n",
       "      <th>beds</th>\n",
       "      <th>bathrooms</th>\n",
       "      <th>price</th>\n",
       "      <th>rating</th>\n",
       "    </tr>\n",
       "  </thead>\n",
       "  <tbody>\n",
       "    <tr>\n",
       "      <th>2165</th>\n",
       "      <td>LE COEUR DE DEAUVILLE (COLAS)</td>\n",
       "      <td>Entire apartment in Deauville</td>\n",
       "      <td>/rooms/26982628?check_in=2021-12-23&amp;check_out=...</td>\n",
       "      <td>5 guests</td>\n",
       "      <td>1</td>\n",
       "      <td>4 beds</td>\n",
       "      <td>1 bathroom</td>\n",
       "      <td>350</td>\n",
       "      <td>4.71</td>\n",
       "    </tr>\n",
       "    <tr>\n",
       "      <th>2168</th>\n",
       "      <td>DEAUVILLE - SEA FRONT - JARDIN &amp; TERRASSE</td>\n",
       "      <td>Entire rental unit in Deauville</td>\n",
       "      <td>/rooms/50049402?check_in=2021-12-23&amp;check_out=...</td>\n",
       "      <td>4 guests</td>\n",
       "      <td>1</td>\n",
       "      <td>2 beds</td>\n",
       "      <td>1 bathroom</td>\n",
       "      <td>351</td>\n",
       "      <td>NaN</td>\n",
       "    </tr>\n",
       "    <tr>\n",
       "      <th>2197</th>\n",
       "      <td>Together,  10 lits</td>\n",
       "      <td>Hotel room in Deauville</td>\n",
       "      <td>/rooms/43101918?check_in=2021-12-23&amp;check_out=...</td>\n",
       "      <td>10 guests</td>\n",
       "      <td>1</td>\n",
       "      <td>5 beds</td>\n",
       "      <td>1 bathroom</td>\n",
       "      <td>521</td>\n",
       "      <td>NaN</td>\n",
       "    </tr>\n",
       "    <tr>\n",
       "      <th>2201</th>\n",
       "      <td>Together,  7 lits</td>\n",
       "      <td>Hotel room in Deauville</td>\n",
       "      <td>/rooms/43101360?check_in=2021-12-23&amp;check_out=...</td>\n",
       "      <td>7 guests</td>\n",
       "      <td>1</td>\n",
       "      <td>4 beds</td>\n",
       "      <td>1 shared bathroom</td>\n",
       "      <td>465</td>\n",
       "      <td>NaN</td>\n",
       "    </tr>\n",
       "    <tr>\n",
       "      <th>2204</th>\n",
       "      <td>Le Green de Deauville, Résidence du Golf***</td>\n",
       "      <td>Entire apartment in Deauville</td>\n",
       "      <td>/rooms/50398707?check_in=2021-12-23&amp;check_out=...</td>\n",
       "      <td>5 guests</td>\n",
       "      <td>1</td>\n",
       "      <td>3 beds</td>\n",
       "      <td>1 bathroom</td>\n",
       "      <td>310</td>\n",
       "      <td>NaN</td>\n",
       "    </tr>\n",
       "    <tr>\n",
       "      <th>2206</th>\n",
       "      <td>Together, 12 lits</td>\n",
       "      <td>Hotel room in Deauville</td>\n",
       "      <td>/rooms/43101999?check_in=2021-12-23&amp;check_out=...</td>\n",
       "      <td>12 guests</td>\n",
       "      <td>1</td>\n",
       "      <td>6 beds</td>\n",
       "      <td>1 shared bathroom</td>\n",
       "      <td>645</td>\n",
       "      <td>NaN</td>\n",
       "    </tr>\n",
       "  </tbody>\n",
       "</table>\n",
       "</div>"
      ],
      "text/plain": [
       "                                             name  \\\n",
       "2165                LE COEUR DE DEAUVILLE (COLAS)   \n",
       "2168    DEAUVILLE - SEA FRONT - JARDIN & TERRASSE   \n",
       "2197                           Together,  10 lits   \n",
       "2201                            Together,  7 lits   \n",
       "2204  Le Green de Deauville, Résidence du Golf***   \n",
       "2206                            Together, 12 lits   \n",
       "\n",
       "                               header  \\\n",
       "2165    Entire apartment in Deauville   \n",
       "2168  Entire rental unit in Deauville   \n",
       "2197          Hotel room in Deauville   \n",
       "2201          Hotel room in Deauville   \n",
       "2204    Entire apartment in Deauville   \n",
       "2206          Hotel room in Deauville   \n",
       "\n",
       "                                                   link     guests  bedrooms  \\\n",
       "2165  /rooms/26982628?check_in=2021-12-23&check_out=...   5 guests         1   \n",
       "2168  /rooms/50049402?check_in=2021-12-23&check_out=...   4 guests         1   \n",
       "2197  /rooms/43101918?check_in=2021-12-23&check_out=...  10 guests         1   \n",
       "2201  /rooms/43101360?check_in=2021-12-23&check_out=...   7 guests         1   \n",
       "2204  /rooms/50398707?check_in=2021-12-23&check_out=...   5 guests         1   \n",
       "2206  /rooms/43101999?check_in=2021-12-23&check_out=...  12 guests         1   \n",
       "\n",
       "        beds          bathrooms  price  rating  \n",
       "2165  4 beds         1 bathroom    350    4.71  \n",
       "2168  2 beds         1 bathroom    351     NaN  \n",
       "2197  5 beds         1 bathroom    521     NaN  \n",
       "2201  4 beds  1 shared bathroom    465     NaN  \n",
       "2204  3 beds         1 bathroom    310     NaN  \n",
       "2206  6 beds  1 shared bathroom    645     NaN  "
      ]
     },
     "execution_count": 7,
     "metadata": {},
     "output_type": "execute_result"
    }
   ],
   "source": [
    "# creating a one_br dataframe\n",
    "one_br = listings[listings[\"bedrooms\"] == 1]\n",
    "\n",
    "# inspecting one_br price > 300\n",
    "one_br[one_br['price'] > 300]"
   ]
  },
  {
   "cell_type": "code",
   "execution_count": 8,
   "id": "292016d8",
   "metadata": {},
   "outputs": [],
   "source": [
    "# dropping one bedroom price outliers\n",
    "one_br = one_br.drop([2197, 2201, 2206])"
   ]
  },
  {
   "cell_type": "code",
   "execution_count": 9,
   "id": "78e0bd2e",
   "metadata": {},
   "outputs": [
    {
     "data": {
      "text/plain": [
       "(939, 9)"
      ]
     },
     "execution_count": 9,
     "metadata": {},
     "output_type": "execute_result"
    }
   ],
   "source": [
    "# looking at the shape of dataframe\n",
    "one_br.shape"
   ]
  },
  {
   "cell_type": "code",
   "execution_count": 10,
   "id": "54318bb7",
   "metadata": {},
   "outputs": [
    {
     "data": {
      "image/png": "[encoded data removed]",
      "text/plain": [
       "<Figure size 864x504 with 1 Axes>"
      ]
     },
     "metadata": {},
     "output_type": "display_data"
    }
   ],
   "source": [
    "# boxplot to get an intial view of one bedroom price range\n",
    "sns.boxplot(data=one_br[one_br['bedrooms'] == 1], x='price')\n",
    "\n",
    "\n",
    "plt.xlabel('Price')\n",
    "plt.title('One Bedroom Units - Deauville, France')\n",
    "\n",
    "\n",
    "sns.set_style(\"white\")\n",
    "sns.set_style(\"ticks\")\n",
    "plt.savefig(\"One_Bedroom_Price_Boxplot_Cleaned.jpeg\")\n",
    "plt.show()"
   ]
  },
  {
   "cell_type": "code",
   "execution_count": 11,
   "id": "84a765ad",
   "metadata": {},
   "outputs": [
    {
     "name": "stdout",
     "output_type": "stream",
     "text": [
      "The 25th percentile is equal to 72.5.\n",
      "The 50th percentile (also known as the median) is equal to 97.0.\n",
      "The 75th percentile is equal to 128.0.\n"
     ]
    }
   ],
   "source": [
    "# finding one bedroom price quartiles\n",
    "one_br_25 = np.percentile(one_br.price, 25)\n",
    "one_br_50 = np.percentile(one_br.price, 50)\n",
    "one_br_75 = np.percentile(one_br.price, 75)\n",
    "# printing out values for the percentiles\n",
    "print(f\"The 25th percentile is equal to {one_br_25}.\")\n",
    "print(f\"The 50th percentile (also known as the median) is equal to {one_br_50}.\")\n",
    "print(f\"The 75th percentile is equal to {one_br_75}.\")"
   ]
  },
  {
   "cell_type": "code",
   "execution_count": 12,
   "id": "117a3c93",
   "metadata": {
    "scrolled": true
   },
   "outputs": [
    {
     "data": {
      "image/png": "[encoded data removed]",
      "text/plain": [
       "<Figure size 640x480 with 1 Axes>"
      ]
     },
     "metadata": {},
     "output_type": "display_data"
    }
   ],
   "source": [
    "# creating a kdeplot with axis lines to represent percentiles\n",
    "\n",
    "# setting styles\n",
    "sns.reset_defaults()\n",
    "sns.set_style(\"ticks\")\n",
    "\n",
    "# one bedroom kdeplot\n",
    "sns.kdeplot(data=one_br, x='price', color='cornflowerblue', fill=True, alpha=0.1, bw_method=0.1)\n",
    "\n",
    "# ax lines for percentiles\n",
    "plt.axvline(one_br_50, color ='darkorange', linestyle='dashed', linewidth='1')\n",
    "plt.axvline(one_br_75, color ='darkorange', linestyle='dashed', linewidth='1')\n",
    "plt.axvline(one_br_25, color ='darkorange', linestyle='dashed', linewidth='1')\n",
    "\n",
    "# title, axis labels, x ticks\n",
    "plt.title('One-Bedroom Rate Percentiles - Deauville, France', fontsize=15)\n",
    "plt.xlabel('Price (€)', fontsize=12)\n",
    "plt.ylabel('Density', fontsize=12)\n",
    "plt.xticks([0, 25, 50, 75, 100, 125, 150, 175, 200, 225, 250, 275, 300, 325, 350])\n",
    "\n",
    "# text for ax line percentiles\n",
    "plt.annotate('25%', xy = (54, .001), color='k', fontsize=9)\n",
    "plt.annotate('50%', xy = (78, .002), color = 'k', fontsize=9)\n",
    "plt.annotate('75%', xy = (108, .003), color = 'k', fontsize=9)\n",
    "\n",
    "# formatting, save jpeg, show\n",
    "sns.despine(top=True)\n",
    "plt.savefig(\"Nightly_Rate_Percentiles.jpg\")\n",
    "plt.show()"
   ]
  }
 ],
 "metadata": {
  "kernelspec": {
   "display_name": "Python 3",
   "language": "python",
   "name": "python3"
  },
  "language_info": {
   "codemirror_mode": {
    "name": "ipython",
    "version": 3
   },
   "file_extension": ".py",
   "mimetype": "text/x-python",
   "name": "python",
   "nbconvert_exporter": "python",
   "pygments_lexer": "ipython3",
   "version": "3.8.8"
  }
 },
 "nbformat": 4,
 "nbformat_minor": 5
}
