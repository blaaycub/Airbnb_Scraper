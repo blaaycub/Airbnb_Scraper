{
 "cells": [
  {
   "cell_type": "code",
   "execution_count": 4,
   "id": "64e18cd4",
   "metadata": {},
   "outputs": [
    {
     "name": "stdout",
     "output_type": "stream",
     "text": [
      "Main page:https://www.airbnb.com/s/Frisco--CO--United-States/homes/\n",
      "Number of homes: 20\n"
     ]
    }
   ],
   "source": [
    "import requests\n",
    "from scrapy.selector import Selector\n",
    "\n",
    "# prepare url\n",
    "city   = 'Frisco--CO--United-States'\n",
    "main_url = 'https://www.airbnb.com'\n",
    "city_url = f'{main_url}/s/{city}/homes/'\n",
    "print(f'Main page:'+city_url)\n",
    "\n",
    "# create selector\n",
    "html = requests.get(city_url).content\n",
    "sel = Selector(text=html)\n",
    "\n",
    "# Get each listing on the results page\n",
    "listings = sel.css('div._1e541ba5')\n",
    "print('Number of homes:', len(listings))"
   ]
  },
  {
   "cell_type": "code",
   "execution_count": 5,
   "id": "a78cee73",
   "metadata": {},
   "outputs": [
    {
     "name": "stdout",
     "output_type": "stream",
     "text": [
      "Next page: \n",
      " /s/Frisco--CO--United-States/homes?tab_id=home_tab&refinement_paths%5B%5D=%2Fhomes&flexible_trip_dates%5B%5D=august&flexible_trip_dates%5B%5D=september&flexible_trip_lengths%5B%5D=weekend_trip&date_picker_type=calendar&place_id=ChIJC2-wVJpeaocRH_fIhqBCLO4&federated_search_session_id=def7edd2-9954-44a1-9418-27957b8c75e8&search_type=unknown&pagination_search=true&items_offset=20&section_offset=4\n"
     ]
    }
   ],
   "source": [
    "# Find the next page url\n",
    "next_page =sel.css('a._za9j7e ::attr(href)').extract_first()\n",
    "print('Next page:', '\\n', next_page)"
   ]
  },
  {
   "cell_type": "code",
   "execution_count": 11,
   "id": "0d4d7e4c",
   "metadata": {},
   "outputs": [],
   "source": [
    "# Select the first listing from the previous list of 20\n",
    "listing = listings[0]\n",
    "\n",
    "#------------------------------------------------\n",
    "#  name, header, link information tags\n",
    "name            = listing.css('span._1whrsux9 ::text').get()\n",
    "header          = listing.css('div._1olmjjs6 ::text').get()\n",
    "link            = listing.css('a ::attr(href)').get()\n",
    "\n",
    "#------------------------------------------------\n",
    "# detail tags\n",
    "guests          = listing.css('span._3hmsj ::text').extract()\n",
    "guests          = guests[0]\n",
    "\n",
    "bedrooms        = listing.css('span._3hmsj ::text').extract()\n",
    "bedrooms        = bedrooms[1]\n",
    "\n",
    "beds            = listing.css('span._3hmsj ::text').extract()\n",
    "beds            = beds[2]\n",
    "\n",
    "bathrooms       = listing.css('span._3hmsj ::text').extract()\n",
    "bathrooms       = bathrooms[3]\n",
    "\n",
    "#------------------------------------------------\n",
    "# price tag\n",
    "price           = listing.css('span._1p7iugi ::text').get()\n",
    "\n",
    "#------------------------------------------------\n",
    "# rating tag\n",
    "rating          = listing.css('span._10fy1f8 ::text').get()\n"
   ]
  },
  {
   "cell_type": "code",
   "execution_count": 13,
   "id": "e84a84dd",
   "metadata": {},
   "outputs": [],
   "source": [
    "# next page tag\n",
    "next_page       = listing.css('a._za9j7e ::attr(href)').get()"
   ]
  }
 ],
 "metadata": {
  "kernelspec": {
   "display_name": "Python 3",
   "language": "python",
   "name": "python3"
  },
  "language_info": {
   "codemirror_mode": {
    "name": "ipython",
    "version": 3
   },
   "file_extension": ".py",
   "mimetype": "text/x-python",
   "name": "python",
   "nbconvert_exporter": "python",
   "pygments_lexer": "ipython3",
   "version": "3.8.8"
  }
 },
 "nbformat": 4,
 "nbformat_minor": 5
}
